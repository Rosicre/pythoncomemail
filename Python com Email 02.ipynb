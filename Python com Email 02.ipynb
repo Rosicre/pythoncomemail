{
 "cells": [
  {
   "cell_type": "markdown",
   "metadata": {},
   "source": [
    "# Integração Python com Gmail - Usando yagmail\n",
    "\n",
    "### 2 métodos principais\n",
    "\n",
    "- yagmail.smtp"
   ]
  },
  {
   "cell_type": "raw",
   "metadata": {},
   "source": [
    "usuario = yagmail.SMTP(user='usuario@gmail.com', password='senha')"
   ]
  },
  {
   "cell_type": "markdown",
   "metadata": {},
   "source": [
    "- .send"
   ]
  },
  {
   "cell_type": "raw",
   "metadata": {},
   "source": [
    "usuario.send(to='destinatario', subject='assunto', contents='conteúdo do email')"
   ]
  },
  {
   "cell_type": "markdown",
   "metadata": {},
   "source": [
    "### Enviando E-mail"
   ]
  },
  {
   "cell_type": "code",
   "execution_count": 5,
   "metadata": {},
   "outputs": [
    {
     "data": {
      "text/plain": [
       "{}"
      ]
     },
     "execution_count": 5,
     "metadata": {},
     "output_type": "execute_result"
    }
   ],
   "source": [
    "import yagmail\n",
    "usuario = yagmail.SMTP(user = 'seu@gmail.com', password = 'suasenha')\n",
    "usuario.send(to = 'emailaenviar', subject = 'Meu primeiro Email no Python', contents = 'Fala ai Ferreira, gostou da automação')"
   ]
  },
  {
   "cell_type": "markdown",
   "metadata": {},
   "source": [
    "### Enviando E-mail com Anexo(s)"
   ]
  },
  {
   "cell_type": "code",
   "execution_count": 6,
   "metadata": {},
   "outputs": [
    {
     "data": {
      "text/plain": [
       "{}"
      ]
     },
     "execution_count": 6,
     "metadata": {},
     "output_type": "execute_result"
    }
   ],
   "source": [
    "usuario.send(to = 'destinatario@gmail.com', subject = 'Relatório Financeiro', \\\n",
    "    contents = 'Prezado Ferreira, \\nSegue em anexo o Relatório Novo.\\nAtt: Ferreira', attachments='Financeiro.xlsx')"
   ]
  },
  {
   "cell_type": "markdown",
   "metadata": {},
   "source": [
    "### Cópia, mais de 1 destinatário e outras variações"
   ]
  },
  {
   "cell_type": "code",
   "execution_count": 7,
   "metadata": {},
   "outputs": [
    {
     "data": {
      "text/plain": [
       "{}"
      ]
     },
     "execution_count": 7,
     "metadata": {},
     "output_type": "execute_result"
    }
   ],
   "source": [
    "# bcc - > cópia oculta\n",
    "usuario.send(to = ['destinatario1@gmail.com', 'destinatario2@gmail.com'], bcc = 'destinatario3@gmail.com', subject = 'Relatório Financeiro', \\\n",
    "    contents = 'Prezado Ferreira, \\nSegue em anexo o Relatório Novo.\\nAtt: Ferreira', attachments='Financeiro.xlsx')"
   ]
  },
  {
   "cell_type": "markdown",
   "metadata": {},
   "source": [
    "### Personalizando o texto do e-mail\n",
    "\n",
    "- Com Python normal"
   ]
  },
  {
   "cell_type": "code",
   "execution_count": 8,
   "metadata": {},
   "outputs": [
    {
     "data": {
      "text/plain": [
       "{}"
      ]
     },
     "execution_count": 8,
     "metadata": {},
     "output_type": "execute_result"
    }
   ],
   "source": [
    "#Primeira forma - > Lista de frases\n",
    "corpo_email = [\n",
    "    'Fala Ferreira, tranquilo? ',\n",
    "    'Envio este e-mail para te passar o relatório de vendas do ano passado',\n",
    "    'Att',\n",
    "    'Rosicre Ferreira'\n",
    "]\n",
    "corpo_email = '\\n'.join(corpo_email)\n",
    "\n",
    "#Segunda forma : - > string de varias linhas\n",
    "\n",
    "corpo_email = '''\n",
    "Fala Ferreira, tranquilo?\n",
    "Envio este e-mail para te passar o relatório de vendas do ano passado.\n",
    "Att:\n",
    "Ferreira\n",
    "\n",
    "'''\n",
    "\n",
    "usuario.send(to = 'destinatario@gmail.com', subject = 'Meus testes de automação', contents= corpo_email)"
   ]
  },
  {
   "cell_type": "markdown",
   "metadata": {},
   "source": [
    "- Com HTML"
   ]
  },
  {
   "cell_type": "code",
   "execution_count": null,
   "metadata": {},
   "outputs": [],
   "source": []
  }
 ],
 "metadata": {
  "kernelspec": {
   "display_name": "Python 3",
   "language": "python",
   "name": "python3"
  },
  "language_info": {
   "codemirror_mode": {
    "name": "ipython",
    "version": 3
   },
   "file_extension": ".py",
   "mimetype": "text/x-python",
   "name": "python",
   "nbconvert_exporter": "python",
   "pygments_lexer": "ipython3",
   "version": "3.9.7"
  }
 },
 "nbformat": 4,
 "nbformat_minor": 4
}
